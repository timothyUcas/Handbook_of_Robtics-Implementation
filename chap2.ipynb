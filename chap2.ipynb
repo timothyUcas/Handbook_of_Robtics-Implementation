{
 "cells": [
  {
   "cell_type": "markdown",
   "id": "c94b6750",
   "metadata": {},
   "source": [
    "## 1 位置与姿态的表示（齐次变换）\n",
    "手册中使用 4×4 的齐次变换矩阵来表示位姿。Robotics Toolbox for Python 依赖其配套的 spatialmath-python 库来处理这些运算。\n",
    "\n",
    "- 实现:\n",
    "    - 创建旋转矩阵：SO3.Rx(angle, unit='deg')\n",
    "    - 创建平移向量：SE3.Tx(dist)\n",
    "    - 组合成齐次变换矩阵：SE3.Rx(0.5) * SE3.Ty(0.5)"
   ]
  }
 ],
 "metadata": {
  "language_info": {
   "name": "python"
  }
 },
 "nbformat": 4,
 "nbformat_minor": 5
}
